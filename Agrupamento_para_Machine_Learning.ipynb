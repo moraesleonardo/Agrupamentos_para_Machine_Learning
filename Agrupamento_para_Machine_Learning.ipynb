{
  "nbformat": 4,
  "nbformat_minor": 0,
  "metadata": {
    "colab": {
      "provenance": [],
      "authorship_tag": "ABX9TyNSQJXjNWM9/7Crm/DWbZnZ",
      "include_colab_link": true
    },
    "kernelspec": {
      "name": "python3",
      "display_name": "Python 3"
    },
    "language_info": {
      "name": "python"
    }
  },
  "cells": [
    {
      "cell_type": "markdown",
      "metadata": {
        "id": "view-in-github",
        "colab_type": "text"
      },
      "source": [
        "<a href=\"https://colab.research.google.com/github/moraesleonardo/Agrupamentos_para_Machine_Learning/blob/main/Agrupamento_para_Machine_Learning.ipynb\" target=\"_parent\"><img src=\"https://colab.research.google.com/assets/colab-badge.svg\" alt=\"Open In Colab\"/></a>"
      ]
    },
    {
      "cell_type": "markdown",
      "source": [
        "# Agrupamentos\n",
        "\n",
        "Utilizando dados de sensores\n",
        "\n",
        "Fonte: Kevin Arvai (adaptado)"
      ],
      "metadata": {
        "id": "sD12wLap-ktk"
      }
    },
    {
      "cell_type": "markdown",
      "source": [
        "## Exemplo 1"
      ],
      "metadata": {
        "id": "R1JOgKeX-oxr"
      }
    },
    {
      "cell_type": "code",
      "execution_count": null,
      "metadata": {
        "id": "u05-tI65-XhS"
      },
      "outputs": [],
      "source": [
        "# Instalando a biblioteca Kneed\n",
        "!pip install kneed\n",
        "\n",
        "# Importando bibliotecas\n",
        "\n",
        "import matplotlib.pyplot as plt\n",
        "import pandas as pd\n",
        "from kneed import KneeLocator\n",
        "from sklearn.cluster import KMeans\n",
        "from sklearn.metrics import silhouette_score\n",
        "from sklearn.preprocessing import StandardScaler"
      ]
    },
    {
      "cell_type": "code",
      "source": [
        "# Carregando a base de dados de sensores\n",
        "base = pd.read_excel('Dados_sensores_KMeans.xlsx')"
      ],
      "metadata": {
        "id": "GhNy9ydU-rGx"
      },
      "execution_count": null,
      "outputs": []
    },
    {
      "cell_type": "code",
      "source": [
        "# Limitando um pouco o tamanho da base para facilitar a interpretação dos dados\n",
        "base = base.head(20000)\n",
        "base"
      ],
      "metadata": {
        "id": "ETyB5GDa-sdr"
      },
      "execution_count": null,
      "outputs": []
    },
    {
      "cell_type": "code",
      "source": [
        "# Separando as variáveis independentes da variável-alvo.\n",
        "features = base[['sensor1', 'sensor2']]\n",
        "true_labels = base[['label']]"
      ],
      "metadata": {
        "id": "orB-uWb--toy"
      },
      "execution_count": null,
      "outputs": []
    },
    {
      "cell_type": "code",
      "source": [
        "# Executando a normalização dos dados para execução do algoritmo\n",
        "# O StandardScale normaliza aplicando o Z-score [z = (x - u)/s]\n",
        "scaler = StandardScaler()\n",
        "scaled_features = scaler.fit_transform(features)\n",
        "scaled_features"
      ],
      "metadata": {
        "id": "yEzdBTJc-uu9"
      },
      "execution_count": null,
      "outputs": []
    },
    {
      "cell_type": "code",
      "source": [
        "# Visualizando a base de dados\n",
        "fig, ax1= plt.subplots(figsize=(8, 6))\n",
        "ax1.scatter(scaled_features[:, 0], scaled_features[:, 1])"
      ],
      "metadata": {
        "id": "5hgIwrfB-wSy"
      },
      "execution_count": null,
      "outputs": []
    },
    {
      "cell_type": "code",
      "source": [
        "# Instanciando o algoritmo K-Means\n",
        "kmeans = KMeans(init='random', n_clusters=3, n_init=10, max_iter=300, random_state=42)\n",
        "# Aplicando o algoritmo\n",
        "kmeans.fit(scaled_features)"
      ],
      "metadata": {
        "id": "pEfCyDXW-xba"
      },
      "execution_count": null,
      "outputs": []
    },
    {
      "cell_type": "code",
      "source": [
        "# Algumas informações sobre o processo de treinamento\n",
        "# O valor do SSE (Sum of the Squared Error) mais baixo\n",
        "# O SSE é definido como a soma dos quadrados das distâncias euclidianas de cada ponto ao seu respectivo centróide.\n",
        "# Por ser uma medida de erro, o objetivo do K-Means é minimizá-la.\n",
        "kmeans.inertia_ # SSE"
      ],
      "metadata": {
        "id": "lqysj7Jt-zBm"
      },
      "execution_count": null,
      "outputs": []
    },
    {
      "cell_type": "code",
      "source": [
        "# Coordenadas finais dos centróides\n",
        "kmeans.cluster_centers_"
      ],
      "metadata": {
        "id": "fF2meVwC-0Mq"
      },
      "execution_count": null,
      "outputs": []
    },
    {
      "cell_type": "code",
      "source": [
        "# Número de iterações necessárias para alcançar a convergência\n",
        "kmeans.n_iter_"
      ],
      "metadata": {
        "id": "iCrUk545-1e5"
      },
      "execution_count": null,
      "outputs": []
    },
    {
      "cell_type": "code",
      "source": [
        "# Olhando os grupos estabelecidos pelo algoritmo para os dados iniciais\n",
        "kmeans.labels_[:5]"
      ],
      "metadata": {
        "id": "lqIWZJGS-2pp"
      },
      "execution_count": null,
      "outputs": []
    },
    {
      "cell_type": "code",
      "source": [
        "# Visualizando com os grupos definidos\n",
        "fig, ax1= plt.subplots(figsize=(8, 6))\n",
        "fte_colors = {0:'red', 1:'green', 2:'blue'}\n",
        "km_colors = [fte_colors[label] for label in kmeans.labels_]\n",
        "ax1.scatter(scaled_features[:, 0], scaled_features[:, 1], c=km_colors)"
      ],
      "metadata": {
        "id": "gZ50uP7X-3zB"
      },
      "execution_count": null,
      "outputs": []
    },
    {
      "cell_type": "code",
      "source": [
        "# E como descobrir o número K?\n",
        "\n",
        "# Podemos usar o método do cotovelo.\n",
        "# Calculando SSEs para vários Ks e armazenando os resultados em uma lista\n",
        "sse = []\n",
        "for k in range(1, 11):\n",
        "    kmeans = KMeans(n_clusters=k, n_init=10, max_iter=300, random_state=42)\n",
        "    kmeans.fit(scaled_features)\n",
        "    sse.append(kmeans.inertia_)\n",
        "\n",
        "\n",
        "# Visualizando\n",
        "plt.plot(range(1, 11), sse)\n",
        "plt.xticks(range(1, 11))\n",
        "plt.xlabel('Number of Clusters')\n",
        "plt.ylabel('SSE')"
      ],
      "metadata": {
        "id": "3iu_a2QH-5CR"
      },
      "execution_count": null,
      "outputs": []
    },
    {
      "cell_type": "code",
      "source": [
        "# Porém, nem sempre a escolha do melhor K é tão óbvia. Vamos usar uma biblioteca para isso.\n",
        "kl = KneeLocator(range(1, 11), sse, curve='convex', direction='decreasing')\n",
        "kl.elbow"
      ],
      "metadata": {
        "id": "asqkSl2Q-877"
      },
      "execution_count": null,
      "outputs": []
    },
    {
      "cell_type": "code",
      "source": [
        "# Outra forma de escolha é através de uma métrica chamada Coeficiente Silhouette\n",
        "'''\n",
        "The silhouette coefficient is a measure of cluster cohesion and separation. \n",
        "It quantifies how well a data point fits into its assigned cluster based on two factors:\n",
        "- How close the data point is to other points in the cluster\n",
        "- How far away the data point is from points in other clusters\n",
        "Silhouette coefficient values range between -1 and 1. \n",
        "Larger numbers indicate that samples are closer to their clusters than they are to other clusters.\n",
        "\n",
        "In the scikit-learn implementation of the silhouette coefficient, the average \n",
        "silhouette coefficient of all the samples is summarized into one score. \n",
        "The silhouette score() function needs a minimum of two clusters, or it will raise an exception.\n",
        "'''\n",
        "\n",
        "# A list holds the silhouette coefficients for each k\n",
        "silhouette_coefficients = []\n",
        "\n",
        "# Notice you start at 2 clusters for silhouette coefficient\n",
        "for k in range(2, 11):\n",
        "    kmeans = KMeans(n_clusters=k, n_init=10, max_iter=300, random_state=42)\n",
        "    kmeans.fit(scaled_features)\n",
        "    score = silhouette_score(scaled_features, kmeans.labels_)\n",
        "    silhouette_coefficients.append(score)\n",
        "\n",
        "# Visualizando\n",
        "plt.plot(range(2, 11), silhouette_coefficients)\n",
        "plt.xticks(range(2, 11))\n",
        "plt.xlabel(\"Number of Clusters\")\n",
        "plt.ylabel(\"Silhouette Coefficient\")"
      ],
      "metadata": {
        "id": "1Rvmr_cd-_Pq"
      },
      "execution_count": null,
      "outputs": []
    },
    {
      "cell_type": "markdown",
      "source": [
        "## Exemplo 2"
      ],
      "metadata": {
        "id": "j7PtFEVM_A3R"
      }
    },
    {
      "cell_type": "code",
      "source": [
        "# Importando as bibliotecas\n",
        "\n",
        "import pandas as pd\n",
        "import matplotlib.pyplot as plt\n",
        "from kneed import KneeLocator\n",
        "from sklearn.cluster import KMeans, DBSCAN\n",
        "from sklearn.preprocessing import StandardScaler"
      ],
      "metadata": {
        "id": "PeOzNYHV_CQC"
      },
      "execution_count": null,
      "outputs": []
    },
    {
      "cell_type": "code",
      "source": [
        "# Carregando a base de dados de sensores\n",
        "base2 = pd.read_excel('Dados_sensores_KMeans_2.xlsx')"
      ],
      "metadata": {
        "id": "CBisNnj9_Dqb"
      },
      "execution_count": null,
      "outputs": []
    },
    {
      "cell_type": "code",
      "source": [
        "# Separando as variáveis independentes da variável-alvo.\n",
        "features = base2[['sensor1', 'sensor2']]\n",
        "true_labels = base2[['label']]"
      ],
      "metadata": {
        "id": "dzUbLtrA_EwR"
      },
      "execution_count": null,
      "outputs": []
    },
    {
      "cell_type": "code",
      "source": [
        "# Executando a normalização dos dados para execução do algoritmo\n",
        "scaler = StandardScaler()\n",
        "scaled_features = scaler.fit_transform(features)"
      ],
      "metadata": {
        "id": "b2OQ0gWR_GN6"
      },
      "execution_count": null,
      "outputs": []
    },
    {
      "cell_type": "code",
      "source": [
        "# Visualizando a base de dados\n",
        "fig, ax1= plt.subplots(figsize=(8, 6))\n",
        "ax1.scatter(scaled_features[:, 0], scaled_features[:, 1])"
      ],
      "metadata": {
        "id": "rfOGivsA_HN2"
      },
      "execution_count": null,
      "outputs": []
    },
    {
      "cell_type": "code",
      "source": [
        "# Escolhendo o melhor K para o K-Means\n",
        "sse = []\n",
        "for k in range(1, 11):\n",
        "    kmeans_kwargs = {'init':'random', 'n_init':10, 'max_iter':300,'random_state':42}\n",
        "    \n",
        "    kmeans = KMeans(n_clusters=k, **kmeans_kwargs)\n",
        "    kmeans.fit(scaled_features)\n",
        "    sse.append(kmeans.inertia_)\n",
        "\n",
        "# Visualizando\n",
        "plt.plot(range(1, 11), sse)\n",
        "plt.xticks(range(1, 11))\n",
        "plt.xlabel('Number of Clusters')\n",
        "plt.ylabel('SSE')"
      ],
      "metadata": {
        "id": "AVLQlAL3_I0B"
      },
      "execution_count": null,
      "outputs": []
    },
    {
      "cell_type": "code",
      "source": [
        "# Definindo o melhor K com a biblioteca apropriada\n",
        "kl = KneeLocator(range(1, 11), sse, curve='convex', direction='decreasing')\n",
        "kl.elbow"
      ],
      "metadata": {
        "id": "x7vBxe_O_KBD"
      },
      "execution_count": null,
      "outputs": []
    },
    {
      "cell_type": "code",
      "source": [
        "# Instanciando os algoritmos K-Means e DBSCAN\n",
        "kmeans = KMeans(n_clusters=kl.elbow)\n",
        "dbscan = DBSCAN(eps=0.3)\n",
        "'''\n",
        "Distância: euclidiana\n",
        "\n",
        "EPS: The maximum distance between two samples for one to be considered as in \n",
        "     the neighborhood of the other. This is not a maximum bound on the distances \n",
        "     of points within a cluster. \n",
        "     This is the most important DBSCAN parameter to choose appropriately for \n",
        "     your data set and distance function.\n",
        "\n",
        "Mais informações sobre o DBSCAN (1996)\n",
        "<https://scikit-learn.org/stable/modules/clustering.html#dbscan>\n",
        "Exemplo interessante de aplicação do DBSCAN\n",
        "<https://www.youtube.com/watch?v=h53WMIImUuc>\n",
        "'''"
      ],
      "metadata": {
        "id": "oDioCOcj_LOR"
      },
      "execution_count": null,
      "outputs": []
    },
    {
      "cell_type": "code",
      "source": [
        "# Aplicando os algoritmos\n",
        "kmeans.fit(scaled_features)\n",
        "dbscan.fit(scaled_features)"
      ],
      "metadata": {
        "id": "B8Epp87R_Mbx"
      },
      "execution_count": null,
      "outputs": []
    },
    {
      "cell_type": "code",
      "source": [
        "# Avaliando os grupos encontrados visualmente\n",
        "fig, (ax1, ax2) = plt.subplots(1, 2, figsize=(8, 6), sharex=True, sharey=True)\n",
        "fig.suptitle('Comparação de algoritmos de clustering', fontsize=16)\n",
        "fte_colors = {0:'red', 1:'green', 2:'blue'}\n",
        "# Visualização do K-Means\n",
        "km_colors = [fte_colors[label] for label in kmeans.labels_]\n",
        "ax1.scatter(scaled_features[:, 0], scaled_features[:, 1], c=km_colors)\n",
        "ax1.set_title('K-Means', fontdict={\"fontsize\": 12})\n",
        "# Visualização do DBSCAN\n",
        "db_colors = [fte_colors[label] for label in dbscan.labels_]\n",
        "ax2.scatter(scaled_features[:, 0], scaled_features[:, 1], c=db_colors)\n",
        "ax2.set_title('DBSCAN', fontdict={\"fontsize\": 12})"
      ],
      "metadata": {
        "id": "SpF3XNoM_N4J"
      },
      "execution_count": null,
      "outputs": []
    }
  ]
}